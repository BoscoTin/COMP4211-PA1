{
 "cells": [
  {
   "cell_type": "markdown",
   "metadata": {},
   "source": [
    "# Task 4: Predicting the Winners in the Pokemon Battles\n",
    "\n",
    "In this task, you need to use grid search to tune a single-hidden-layer neural network model to predict the winner of a battle between two Pokemons, which are referred to as the first and second Pokemons. Before training, you have to organize the data frames from Pokemon.csv and ```battles.csv``` so that the model takes the features of both Pokemons as input and predicts whether the first Pokemon wins using a binary label, with values 1 and 0 indicating that the first Pokemon wins and loses, respectively.\n",
    "\n",
    "This time, you are required to evaluate your model on the test set q4 test.csv provided. You need to import ```q4_test.csv``` as a data frame and use the data to define input features for the model like what you did for the training data.\n",
    "\n",
    "You are required to use the ```model selection``` submodule in ```scikit-learn``` to facilitate performing grid search cross validation for hyperparameter tuning. This is done by randomly sampling 80% of the training instances to train a classifier and then validating it on the remaining 20%. Five such random data splits are performed and the average over these five trials is used to estimate the generalization performance. You are expected to search at least 10 combinations of the hyperparameter setting."
   ]
  },
  {
   "cell_type": "code",
   "execution_count": 1,
   "metadata": {},
   "outputs": [],
   "source": [
    "# import library\n",
    "import pandas as pd\n",
    "import numpy as np\n",
    "import matplotlib.pyplot as plt\n",
    "\n",
    "from sklearn.metrics import plot_confusion_matrix, classification_report\n",
    "from sklearn.model_selection import train_test_split, GridSearchCV\n",
    "from sklearn.neural_network import MLPClassifier\n",
    "from sklearn.preprocessing import MinMaxScaler"
   ]
  },
  {
   "cell_type": "code",
   "execution_count": 2,
   "metadata": {},
   "outputs": [],
   "source": [
    "# import csvs\n",
    "pkdf = pd.read_csv('./pokemon.csv', sep=',', index_col=\"#\")\n",
    "btdf = pd.read_csv('./battles.csv', sep=',')\n",
    "q4df = pd.read_csv('./q4_test.csv', sep=',')"
   ]
  },
  {
   "cell_type": "code",
   "execution_count": 3,
   "metadata": {},
   "outputs": [],
   "source": [
    "# define function\n",
    "# factorized\n",
    "# for vlookup df's pokemon on pkdf and merge the features\n",
    "# and one-hot encoding\n",
    "def preprocess(df):\n",
    "    # column of first pokemon wins\n",
    "    df['First_Wins'] = (df['First_pokemon'] == df['Winner']) * 1\n",
    "    \n",
    "    \n",
    "    # look up first pokemon\n",
    "    r = df.merge(\n",
    "        pkdf, \n",
    "        right_index=True, \n",
    "        left_on=\"First_pokemon\", \n",
    "        how=\"left\"\n",
    "    )\n",
    "\n",
    "    # drop unwanted features\n",
    "    r = r.drop(\n",
    "        columns = [\n",
    "            \"Name\", \n",
    "            \"WinRate\"\n",
    "        ]\n",
    "    )\n",
    "\n",
    "    # look up second pokemon\n",
    "    r = r.merge(\n",
    "        pkdf, \n",
    "        right_index=True,\n",
    "        left_on=\"Second_pokemon\", \n",
    "        how='left',\n",
    "        suffixes=('_First', '_Second')\n",
    "    )\n",
    "\n",
    "    # drop unwanted features\n",
    "    r = r.drop(\n",
    "        columns = [\n",
    "            'Name', \n",
    "            'First_pokemon', \n",
    "            'Second_pokemon', \n",
    "            'Winner', \n",
    "            'WinRate'\n",
    "        ]\n",
    "    )\n",
    "    \n",
    "    # return one-hot encoded dataframe\n",
    "    return pd.get_dummies(r)"
   ]
  },
  {
   "cell_type": "code",
   "execution_count": 4,
   "metadata": {},
   "outputs": [],
   "source": [
    "# do pre-processing on dataframes\n",
    "ppbtdf = preprocess(btdf)\n",
    "ppq4df = preprocess(q4df)"
   ]
  },
  {
   "cell_type": "code",
   "execution_count": 5,
   "metadata": {},
   "outputs": [],
   "source": [
    "# get x y from processed battle df\n",
    "X = ppbtdf.loc[:, ppbtdf.columns != 'First_Wins']\n",
    "X = MinMaxScaler().fit_transform(X)\n",
    "\n",
    "y = ppbtdf['First_Wins']"
   ]
  },
  {
   "cell_type": "code",
   "execution_count": 6,
   "metadata": {},
   "outputs": [],
   "source": [
    "# split data\n",
    "X_train, X_test, y_train, y_test = train_test_split(\n",
    "    X, y,\n",
    "    test_size=0.2,\n",
    "    random_state=4211,\n",
    "    shuffle=True\n",
    ")"
   ]
  },
  {
   "cell_type": "code",
   "execution_count": 7,
   "metadata": {},
   "outputs": [],
   "source": [
    "# set params, report back here\n",
    "hss = [(2**i,) for i in range(1,3)]\n",
    "\n",
    "grid_dist = {\n",
    "    'hidden_layer_sizes': hss, # size refer to above\n",
    "    'activation': ['relu', 'tanh'],\n",
    "    'solver': ['adam', 'sgd']\n",
    "}"
   ]
  },
  {
   "cell_type": "code",
   "execution_count": 8,
   "metadata": {},
   "outputs": [],
   "source": [
    "# define model\n",
    "mlp = MLPClassifier(\n",
    "    random_state = 4211,\n",
    "    max_iter = 500,\n",
    "    learning_rate_init = 1e-3,\n",
    "    learning_rate = 'invscaling',\n",
    "    n_iter_no_change = 10,\n",
    "    early_stopping = True,\n",
    "    tol = 1e-4,\n",
    "    epsilon = 1e-8,\n",
    "    verbose = False\n",
    ")\n",
    "\n",
    "grid_search = GridSearchCV(\n",
    "    mlp,\n",
    "    grid_dist,\n",
    "    cv = 5\n",
    ")"
   ]
  },
  {
   "cell_type": "code",
   "execution_count": 9,
   "metadata": {},
   "outputs": [
    {
     "data": {
      "text/plain": [
       "GridSearchCV(cv=5, error_score=nan,\n",
       "             estimator=MLPClassifier(activation='relu', alpha=0.0001,\n",
       "                                     batch_size='auto', beta_1=0.9,\n",
       "                                     beta_2=0.999, early_stopping=True,\n",
       "                                     epsilon=1e-08, hidden_layer_sizes=(100,),\n",
       "                                     learning_rate='invscaling',\n",
       "                                     learning_rate_init=0.001, max_fun=15000,\n",
       "                                     max_iter=500, momentum=0.9,\n",
       "                                     n_iter_no_change=10,\n",
       "                                     nesterovs_momentum=True, power_t=0.5,\n",
       "                                     random_state=4211, shuffle=True,\n",
       "                                     solver='adam', tol=0.0001,\n",
       "                                     validation_fraction=0.1, verbose=False,\n",
       "                                     warm_start=False),\n",
       "             iid='deprecated', n_jobs=None,\n",
       "             param_grid={'activation': ['relu', 'tanh'],\n",
       "                         'hidden_layer_sizes': [(2,), (4,)],\n",
       "                         'solver': ['adam', 'sgd']},\n",
       "             pre_dispatch='2*n_jobs', refit=True, return_train_score=False,\n",
       "             scoring=None, verbose=0)"
      ]
     },
     "execution_count": 9,
     "metadata": {},
     "output_type": "execute_result"
    }
   ],
   "source": [
    "# run and this one needs somehow 15 minutes!\n",
    "grid_search.fit(X_train, y_train)"
   ]
  },
  {
   "cell_type": "code",
   "execution_count": 10,
   "metadata": {},
   "outputs": [
    {
     "name": "stdout",
     "output_type": "stream",
     "text": [
      "Rank 1 model:\n",
      "Mean : 0.90246875 , SD : 0.0034536552194740036\n",
      "With parameters: {'activation': 'relu', 'hidden_layer_sizes': (4,), 'solver': 'adam'}\n",
      "\n",
      "Rank 2 model:\n",
      "Mean : 0.8990625 , SD : 0.003947902924338457\n",
      "With parameters: {'activation': 'relu', 'hidden_layer_sizes': (2,), 'solver': 'adam'}\n",
      "\n",
      "Rank 3 model:\n",
      "Mean : 0.8984687499999999 , SD : 0.0025221673467476355\n",
      "With parameters: {'activation': 'tanh', 'hidden_layer_sizes': (2,), 'solver': 'adam'}\n",
      "\n"
     ]
    }
   ],
   "source": [
    "# get test results\n",
    "results = grid_search.cv_results_\n",
    "\n",
    "# print 3 top scores\n",
    "for i in range(1, 4):\n",
    "    models = np.flatnonzero(results['rank_test_score'] == i)\n",
    "    for m in models:\n",
    "        print (\"Rank {0} model:\".format(i))\n",
    "        print (\"Mean : {0} , SD : {1}\".format(\n",
    "            results['mean_test_score'][m],\n",
    "            results['std_test_score'][m]\n",
    "        ))\n",
    "        print (\"With parameters: {0}\".format(\n",
    "            results['params'][m]\n",
    "        ))\n",
    "        print (\"\")"
   ]
  },
  {
   "cell_type": "code",
   "execution_count": 11,
   "metadata": {},
   "outputs": [
    {
     "name": "stdout",
     "output_type": "stream",
     "text": [
      "Classification report for classifier MLPClassifier(activation='relu', alpha=0.0001, batch_size='auto', beta_1=0.9,\n",
      "              beta_2=0.999, early_stopping=True, epsilon=1e-08,\n",
      "              hidden_layer_sizes=(4,), learning_rate='invscaling',\n",
      "              learning_rate_init=0.001, max_fun=15000, max_iter=500,\n",
      "              momentum=0.9, n_iter_no_change=10, nesterovs_momentum=True,\n",
      "              power_t=0.5, random_state=4211, shuffle=True, solver='adam',\n",
      "              tol=0.0001, validation_fraction=0.1, verbose=False,\n",
      "              warm_start=False):\n",
      "              precision    recall  f1-score   support\n",
      "\n",
      "           0       0.90      0.92      0.91      5282\n",
      "           1       0.91      0.88      0.90      4718\n",
      "\n",
      "    accuracy                           0.90     10000\n",
      "   macro avg       0.90      0.90      0.90     10000\n",
      "weighted avg       0.90      0.90      0.90     10000\n",
      "\n",
      "\n"
     ]
    }
   ],
   "source": [
    "# predict\n",
    "q4dt = ppq4df.loc[:, ppbtdf.columns != 'First_Wins']\n",
    "ppq4 = MinMaxScaler().fit_transform(q4dt)\n",
    "\n",
    "# gs.best_estimator_.predict = gs.predict\n",
    "Q4pred = grid_search.predict(ppq4)\n",
    "\n",
    "q4y = ppq4df['First_Wins']\n",
    "\n",
    "print(\"Classification report for classifier %s:\\n%s\\n\"\n",
    "      % (\n",
    "          grid_search.best_estimator_, \n",
    "          classification_report(q4y, Q4pred)\n",
    "      ))\n"
   ]
  },
  {
   "cell_type": "code",
   "execution_count": 12,
   "metadata": {},
   "outputs": [
    {
     "data": {
      "text/plain": [
       "Text(0.5, 0.98, 'Confusion Matrix')"
      ]
     },
     "execution_count": 12,
     "metadata": {},
     "output_type": "execute_result"
    },
    {
     "data": {
      "image/png": "[encoded data removed]",
      "text/plain": [
       "<Figure size 432x288 with 2 Axes>"
      ]
     },
     "metadata": {
      "needs_background": "light"
     },
     "output_type": "display_data"
    }
   ],
   "source": [
    "# confusion matrix\n",
    "disp = plot_confusion_matrix(grid_search, X_test, y_test)\n",
    "disp.figure_.suptitle(\"Confusion Matrix\")"
   ]
  },
  {
   "cell_type": "code",
   "execution_count": 13,
   "metadata": {},
   "outputs": [
    {
     "name": "stdout",
     "output_type": "stream",
     "text": [
      "Confusion matrix:\n",
      "[[3935  345]\n",
      " [ 417 3303]]\n"
     ]
    }
   ],
   "source": [
    "print(\"Confusion matrix:\\n%s\" % disp.confusion_matrix)"
   ]
  },
  {
   "cell_type": "code",
   "execution_count": null,
   "metadata": {},
   "outputs": [],
   "source": []
  }
 ],
 "metadata": {
  "kernelspec": {
   "display_name": "Python 3",
   "language": "python",
   "name": "python3"
  },
  "language_info": {
   "codemirror_mode": {
    "name": "ipython",
    "version": 3
   },
   "file_extension": ".py",
   "mimetype": "text/x-python",
   "name": "python",
   "nbconvert_exporter": "python",
   "pygments_lexer": "ipython3",
   "version": "3.7.4"
  }
 },
 "nbformat": 4,
 "nbformat_minor": 2
}
