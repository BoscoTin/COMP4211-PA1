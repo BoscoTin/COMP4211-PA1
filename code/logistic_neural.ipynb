{
 "cells": [
  {
   "cell_type": "markdown",
   "metadata": {},
   "source": [
    "# Task 3: Legendary Pokemon Classification using Logistic Regression and Single-hidden-layer Neural Networks\n",
    "\n",
    "In this task, you will build a logistic regression model as well as neural network classifiers to predict whether a Pokemon is legendary or not. You should use the following 10 features for your models: ‘Type 1’, ‘Type 2’, ‘HP’, ‘Attack’, ‘Defense’, ‘Sp. Atk’, ‘Sp. Def’, ‘Speed’, ‘Generation’, and ‘Has Gender’. One-hot encoding may be used for the categorical features.\n",
    "\n",
    "You are also required to use the train test split submodule in scikit-learn to split the data, with 80% for training and 20% for validation. As before, we ask that you set random state = 4211 for reproducibility."
   ]
  },
  {
   "cell_type": "markdown",
   "metadata": {},
   "source": [
    "# Task 3.1: Logistic_regression\n",
    "\n",
    "Learning of the logistic regression model should use a gradient-descent algorithm by minimizing the cross-entropy loss. It requires that the step size parameter η be specified. Try out a few values (<1) and choose one that leads to stable convergence. You may also decrease η gradually during the learning process to enhance convergence. This can be done automatically in ```scikit-learn``` when set properly.\n",
    "\n",
    "During training, record the training time for the logistic model. After training, you are required to evaluate your model using both accuracy and the F1 score on the validation set."
   ]
  },
  {
   "cell_type": "code",
   "execution_count": 1,
   "metadata": {},
   "outputs": [],
   "source": [
    "# import library\n",
    "import pandas as pd\n",
    "import numpy as np\n",
    "import time\n",
    "import math\n",
    "import matplotlib.pyplot as plt\n",
    "\n",
    "from sklearn.linear_model import SGDClassifier\n",
    "from sklearn.metrics import accuracy_score, f1_score, classification_report\n",
    "from sklearn.model_selection import train_test_split\n",
    "\n",
    "from sklearn import preprocessing"
   ]
  },
  {
   "cell_type": "code",
   "execution_count": 2,
   "metadata": {},
   "outputs": [],
   "source": [
    "# import csv\n",
    "pkdf = pd.read_csv('./pokemon.csv', sep=',', index_col=\"#\")"
   ]
  },
  {
   "cell_type": "code",
   "execution_count": 3,
   "metadata": {},
   "outputs": [],
   "source": [
    "# get the dfs first\n",
    "logistic_labels = [\n",
    "    'Type 1', 'Type 2', 'HP', \n",
    "    'Attack', 'Defense', \n",
    "    'Sp. Atk', 'Sp. Def', \n",
    "    'Speed', 'Generation', 'Has Gender'\n",
    "]\n",
    "X = pkdf[logistic_labels]\n",
    "y = pkdf['Legendary']"
   ]
  },
  {
   "cell_type": "code",
   "execution_count": 4,
   "metadata": {},
   "outputs": [],
   "source": [
    "# preprocess\n",
    "X = pd.get_dummies(X)"
   ]
  },
  {
   "cell_type": "code",
   "execution_count": 5,
   "metadata": {},
   "outputs": [],
   "source": [
    "# normal distribute the data, to make the loss later decrease\n",
    "\n",
    "normal_labels = ['HP', 'Attack', 'Defense', 'Sp. Atk', 'Sp. Def', 'Speed']\n",
    "for l in normal_labels:\n",
    "    X[l] = preprocessing.scale(X[l])"
   ]
  },
  {
   "cell_type": "code",
   "execution_count": 6,
   "metadata": {},
   "outputs": [],
   "source": [
    "# split the data\n",
    "X_train, X_test, y_train, y_test = train_test_split(\n",
    "    X,\n",
    "    y,\n",
    "    test_size=0.2,\n",
    "    random_state=4211\n",
    ")"
   ]
  },
  {
   "cell_type": "code",
   "execution_count": 7,
   "metadata": {},
   "outputs": [],
   "source": [
    "# factorize the function out for further testing\n",
    "def logistic(rate):\n",
    "    # start counting time\n",
    "    start = time.time()\n",
    "    \n",
    "    # define logistic training model\n",
    "    model = SGDClassifier(\n",
    "        loss = 'log',\n",
    "        max_iter = 500, # to prevent overtime\n",
    "        random_state = rate\n",
    "    )\n",
    "    model.fit(X_train, y_train)\n",
    "    \n",
    "    # make prediction\n",
    "    pred = model.predict(X_test)\n",
    "    \n",
    "    # mark down the time used\n",
    "    used = time.time() - start\n",
    "    \n",
    "    # score\n",
    "    acc = accuracy_score(y_test, pred)\n",
    "    f1 = f1_score(y_test, pred)\n",
    "    \n",
    "    return (used, acc, f1)"
   ]
  },
  {
   "cell_type": "code",
   "execution_count": 8,
   "metadata": {},
   "outputs": [],
   "source": [
    "# do logistic regression here\n",
    "random_states = [0, 1, 4, 9, 16, 25, 36, 4211]\n",
    "stats = []\n",
    "for r in random_states:\n",
    "    t, a, f = logistic(r)\n",
    "    stats.append( (r, t, a, f) )"
   ]
  },
  {
   "cell_type": "code",
   "execution_count": 9,
   "metadata": {},
   "outputs": [],
   "source": [
    "def printf (test):\n",
    "    print ('Random state:', test[0] )\n",
    "    print ('Time used:', test[1] )\n",
    "    print ('Accuracy:', test[2] )\n",
    "    print ('F1 score:', test[3] )\n",
    "    print (\"\")"
   ]
  },
  {
   "cell_type": "code",
   "execution_count": 10,
   "metadata": {},
   "outputs": [
    {
     "name": "stdout",
     "output_type": "stream",
     "text": [
      "Random state: 0\n",
      "Time used: 0.005660295486450195\n",
      "Accuracy: 0.925\n",
      "F1 score: 0.45454545454545453\n",
      "\n",
      "Random state: 1\n",
      "Time used: 0.0056569576263427734\n",
      "Accuracy: 0.95625\n",
      "F1 score: 0.7741935483870968\n",
      "\n",
      "Random state: 4\n",
      "Time used: 0.006000041961669922\n",
      "Accuracy: 0.95\n",
      "F1 score: 0.7647058823529412\n",
      "\n",
      "Random state: 9\n",
      "Time used: 0.005624055862426758\n",
      "Accuracy: 0.9375\n",
      "F1 score: 0.6428571428571428\n",
      "\n",
      "Random state: 16\n",
      "Time used: 0.004586935043334961\n",
      "Accuracy: 0.9375\n",
      "F1 score: 0.6153846153846153\n",
      "\n",
      "Random state: 25\n",
      "Time used: 0.005586862564086914\n",
      "Accuracy: 0.95625\n",
      "F1 score: 0.7741935483870968\n",
      "\n",
      "Random state: 36\n",
      "Time used: 0.005527019500732422\n",
      "Accuracy: 0.9625\n",
      "F1 score: 0.8125\n",
      "\n",
      "Random state: 4211\n",
      "Time used: 0.005464076995849609\n",
      "Accuracy: 0.95\n",
      "F1 score: 0.7142857142857143\n",
      "\n"
     ]
    }
   ],
   "source": [
    "for stat in stats:\n",
    "    printf(stat)"
   ]
  },
  {
   "cell_type": "code",
   "execution_count": 11,
   "metadata": {},
   "outputs": [
    {
     "name": "stdout",
     "output_type": "stream",
     "text": [
      "Mean Time: 0.005513280630111694\n",
      "SD Time : 0.00038039525407196605\n",
      "Mean Accuracy: 0.946875\n",
      "SD Accuracy: 0.011692679333668564\n",
      "Mean F1: 0.6940832382750077\n",
      "SD F1: 0.11093324955470744\n"
     ]
    }
   ],
   "source": [
    "print('Mean Time:', np.mean([x[1] for x in stats]))\n",
    "print('SD Time :', math.sqrt(np.var([x[1] for x in stats])))\n",
    "print('Mean Accuracy:', np.mean([x[2] for x in stats]))\n",
    "print('SD Accuracy:', math.sqrt(np.var([x[2] for x in stats])))\n",
    "print('Mean F1:', np.mean([x[3] for x in stats]))\n",
    "print('SD F1:', math.sqrt(np.var([x[3] for x in stats])))"
   ]
  },
  {
   "cell_type": "markdown",
   "metadata": {},
   "source": [
    "# Task 3.2: Single-hidden-layer Neural Networks\n",
    "\n",
    "Neural network classifiers generalize logistic regression by introducing one or more hidden layers. The learning algorithm for them is similar to that for logistic regression as described above.\n",
    "1The F1 score is the harmonic mean of precision and sensitivity. You can find this metric in sklearn.metrics.\n",
    "\n",
    "For the single-hidden-layer neural network model, you need to try different number of hidden units H ∈ {1, 2, 4, 8, 16, 32, 64}. The hyperparameter ```max_iter``` can be set to 500 (default is 200). The other hyperparameters may just take their default values. During training, you are expected to record the training time of the models. After training, evaluate your models using the accuracy and the F1 score on the validation set. You have to report the accuracy and the F1 score for *each value* of H by plotting them using ```matplotlib```."
   ]
  },
  {
   "cell_type": "code",
   "execution_count": 12,
   "metadata": {},
   "outputs": [],
   "source": [
    "# import more libraries\n",
    "from sklearn.neural_network import MLPClassifier\n",
    "from sklearn.metrics import classification_report"
   ]
  },
  {
   "cell_type": "code",
   "execution_count": 13,
   "metadata": {},
   "outputs": [],
   "source": [
    "# as the dataset already split before, so directly use\n",
    "def neural_train(hs):\n",
    "    \n",
    "    start = time.time()\n",
    "\n",
    "    # train and define the model\n",
    "    nn = MLPClassifier(\n",
    "        hidden_layer_sizes=hs,\n",
    "        max_iter=500,\n",
    "    )\n",
    "    nn.fit(X_train, y_train)\n",
    "    \n",
    "    # train time ends\n",
    "    used = time.time() - start\n",
    "    \n",
    "    # make prediction\n",
    "    pred = nn.predict(X_test)\n",
    "    \n",
    "    # score\n",
    "    acc = accuracy_score(y_test, pred)\n",
    "    f1 = f1_score(y_test, pred, average='macro')\n",
    "    \n",
    "    return (used, acc, f1)"
   ]
  },
  {
   "cell_type": "code",
   "execution_count": 14,
   "metadata": {},
   "outputs": [],
   "source": [
    "# use the same randome states as the logistic\n",
    "hss = [(2**i, ) for i in range(1, 8)] # h values required\n",
    "ts = []\n",
    "acs = []\n",
    "fs = []\n",
    "for h in hss:\n",
    "    t, a, f = neural_train(h)\n",
    "    ts.append(t)\n",
    "    acs.append(a)\n",
    "    fs.append(f)"
   ]
  },
  {
   "cell_type": "code",
   "execution_count": 15,
   "metadata": {},
   "outputs": [
    {
     "name": "stdout",
     "output_type": "stream",
     "text": [
      "Mean train time: 0.5077272823878697\n",
      "SD: 0.07404545724457166\n",
      "Mean accuracy: 0.9705357142857143\n",
      "SD: 0.009278843611976095\n",
      "Mean f1 score: 0.9138067694724458\n",
      "SD: 0.03102633546197816\n"
     ]
    }
   ],
   "source": [
    "print ('Mean train time:' , np.mean(ts))\n",
    "print ('SD:', math.sqrt(np.var(ts)) )\n",
    "print ('Mean accuracy:' , np.mean(acs))\n",
    "print ('SD:', math.sqrt(np.var(acs)) )\n",
    "print ('Mean f1 score:' , np.mean(fs))\n",
    "print ('SD:', math.sqrt(np.var(fs)) )"
   ]
  },
  {
   "cell_type": "code",
   "execution_count": 16,
   "metadata": {},
   "outputs": [
    {
     "data": {
      "image/png": "[encoded data removed]",
      "text/plain": [
       "<Figure size 432x288 with 1 Axes>"
      ]
     },
     "metadata": {
      "needs_background": "light"
     },
     "output_type": "display_data"
    },
    {
     "data": {
      "image/png": "[encoded data removed]",
      "text/plain": [
       "<Figure size 432x288 with 1 Axes>"
      ]
     },
     "metadata": {
      "needs_background": "light"
     },
     "output_type": "display_data"
    }
   ],
   "source": [
    "# plot accuracy graph and f1 graph\n",
    "title = [\n",
    "    'Accuracy',\n",
    "    'F1-score'\n",
    "]\n",
    "for i,y in enumerate([ts, acs]):\n",
    "    plt.title('H value vs ' + title[i] )\n",
    "    plt.plot(hss, y)\n",
    "    plt.show()"
   ]
  },
  {
   "cell_type": "code",
   "execution_count": 17,
   "metadata": {},
   "outputs": [
    {
     "name": "stdout",
     "output_type": "stream",
     "text": [
      "0.6667740345001221 0.98125 0.9464225918071213\n"
     ]
    }
   ],
   "source": [
    "print (ts[-1], acs[-1], fs[-1])"
   ]
  },
  {
   "cell_type": "code",
   "execution_count": null,
   "metadata": {},
   "outputs": [],
   "source": []
  }
 ],
 "metadata": {
  "kernelspec": {
   "display_name": "Python 3",
   "language": "python",
   "name": "python3"
  },
  "language_info": {
   "codemirror_mode": {
    "name": "ipython",
    "version": 3
   },
   "file_extension": ".py",
   "mimetype": "text/x-python",
   "name": "python",
   "nbconvert_exporter": "python",
   "pygments_lexer": "ipython3",
   "version": "3.7.4"
  }
 },
 "nbformat": 4,
 "nbformat_minor": 2
}
